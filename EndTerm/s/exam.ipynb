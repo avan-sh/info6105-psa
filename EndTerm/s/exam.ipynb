{
 "cells": [
  {
   "cell_type": "markdown",
   "metadata": {},
   "source": [
    "# FINAL EXAM"
   ]
  },
  {
   "cell_type": "raw",
   "metadata": {},
   "source": [
    "import sys # For getting Python Version"
   ]
  },
  {
   "cell_type": "markdown",
   "metadata": {},
   "source": [
    "# Exam class\n",
    "# WRITE CODE ONLY HERE"
   ]
  },
  {
   "cell_type": "code",
   "execution_count": null,
   "metadata": {},
   "outputs": [],
   "source": [
    "class WriteDot:\n",
    "    def __init__(\n",
    "        self, d: \"bool\", start: \"int\", a: \"list of list\", f: \"filename\"\n",
    "    ) -> \"None\":\n",
    "\n",
    "        print(\"In graph\", f)\n",
    "        print(\"ZERO Marks will be given if you don't write code here\")"
   ]
  },
  {
   "cell_type": "code",
   "execution_count": null,
   "metadata": {},
   "outputs": [],
   "source": [
    "class Write2Dot:\n",
    "    def __init__(\n",
    "        self,\n",
    "        d: \"bool\",\n",
    "        start: \"int\",\n",
    "        a: \"list of list\",\n",
    "        ans: \"list of list\",\n",
    "        f: \"filename\",\n",
    "    ) -> \"None\":\n",
    "        print(\"out graph\", f)\n",
    "        print(\"ZERO marks will be given if you don't write code here\")"
   ]
  },
  {
   "cell_type": "code",
   "execution_count": null,
   "metadata": {},
   "outputs": [],
   "source": [
    "############################################################\n",
    "# Exam.py \n",
    "# \n",
    "###########################################################\n",
    "\n",
    "############################################################\n",
    "#  All imports here\n",
    "###########################################################\n",
    "class Exam:\n",
    "    def __init__(\n",
    "        self,\n",
    "        num: \"int\",\n",
    "        d: \"bool\",\n",
    "        start: \"int\",\n",
    "        a: \"list of list\",\n",
    "        ans: \"list of list\",\n",
    "        work: \"list of size 1\",\n",
    "        show: \"bool\",\n",
    "    ):\n",
    "        self._num = num\n",
    "        self._dir = d\n",
    "        self._start = start\n",
    "        self._a = a\n",
    "        self._ans = ans\n",
    "        self._work = work\n",
    "        self._show = show\n",
    "        ## You can have your data structure here\n",
    "        \n",
    "\n",
    "        ## Nothing can be changed below\n",
    "        if self._show:\n",
    "            # CHANGE THIS. MUST post all pdf in Canavs as a ZIP file\n",
    "            # DO NOT UPLOAD DOT FILES\n",
    "            outputDir = \"C:\\\\scratch\\\\outputs\\\\exam\\\\\"\n",
    "            f = outputDir + str(self._num) + \"in.dot\"\n",
    "            e = WriteDot(self._dir, self._start, self._a, f)\n",
    "        self._alg()  # Everything happens in _alg\n",
    "        if self._show:\n",
    "            f = outputDir + str(self._num) + \"out.dot\"\n",
    "            e = Write2Dot(self._dir, self._start, self._a, self._ans, f)\n",
    "\n",
    "    ############################################################\n",
    "    #  Write your code below\n",
    "    ###########################################################\n",
    "    def _alg(self) -> \"None\":\n",
    "        print(\"remove this line and write\")\n",
    "        print(\"ZERO marks will be given if you don't write code\")\n",
    "        print(self._a)"
   ]
  },
  {
   "cell_type": "markdown",
   "metadata": {},
   "source": [
    "# Exam test class\n",
    "# NOTHING CAN BE CHANGED BELOW"
   ]
  },
  {
   "cell_type": "code",
   "execution_count": null,
   "metadata": {},
   "outputs": [],
   "source": [
    "############################################################\n",
    "# ExamTest.py \n",
    "# Test Bench for Exam\n",
    "# \n",
    "###########################################################\n",
    "\n",
    "############################################################\n",
    "#  NOTHING CAN BE CHANGED IN THIS FILE\n",
    "########################################################### \n",
    "\n",
    "############################################################\n",
    "#  All imports here\n",
    "###########################################################\n",
    "import sys # For getting Python Version\n",
    "#from Exam import *\n",
    "\n",
    "############################################################\n",
    "#  class  ExamTest\n",
    "###########################################################\n",
    "class ExamTest:\n",
    "    def __init__(self):\n",
    "        self._n = 0\n",
    "        self._simple()\n",
    "        self._hidden()\n",
    "\n",
    "    def _test1(self, directed: \"bool\", start: \"int\", a: \"list of list\", eans: \"bool\"):\n",
    "        ans = []  # list of list\n",
    "        work = [0]\n",
    "        show = True\n",
    "        self._n += 1\n",
    "        print(\"----------PROBLEM\", self._n, \"----------------------\")\n",
    "        e = Exam(self._n, directed, start, a, ans, work, show)\n",
    "        \n",
    "    def _simple(self):\n",
    "        directed = False\n",
    "        start = 0\n",
    "        eans = True\n",
    "        a = [[1, 3], [0, 2], [1, 3], [0, 2]]  # list of list\n",
    "        self._test1(directed, start, a, eans)\n",
    "\n",
    "    def _hidden(self):\n",
    "        print(\"I will run hidden tests after you submit and make you suffer\")\n",
    "        print(\"You may get much less than 80. So go to PLAN B\")\n",
    "       \n",
    "\n",
    "\n",
    " ############################################################\n",
    "# MAIN\n",
    "###########################################################    \n",
    "def main():\n",
    "    print(\"Input is Undirected graph with NO Self loop or  NO parallel edges\")\n",
    "    print(\n",
    "        \"The graph may not be connected, meaning there may be two nodes u and v such that there is no path between them\"\n",
    "    )\n",
    "    t = ExamTest()\n",
    "    print(\"MY NAME AS SHOWN ON CANVAS iS : FILL\")\n",
    "    print(\"Time  complexity OF MY CODE is : FILL\")\n",
    "    print(\"Space complexity OF MY CODE is : FILL\")\n",
    "    print(\"NOTE REAL TEST BENCH WILL BE POSTED AFTER EXAM.\")\n",
    "    print(\"RUN ON YOUR OWN TO SEE WHERE YOU STAND.\")\n",
    "    print(\"EXAM ENDS. Cannot post more than once in Canvas\")\n",
    "\n",
    "############################################################\n",
    "# start up\n",
    "###########################################################\n",
    "if (__name__  == '__main__'):\n",
    "    main()\n"
   ]
  }
 ],
 "metadata": {
  "kernelspec": {
   "display_name": "Python 3 (ipykernel)",
   "language": "python",
   "name": "python3"
  },
  "language_info": {
   "codemirror_mode": {
    "name": "ipython",
    "version": 3
   },
   "file_extension": ".py",
   "mimetype": "text/x-python",
   "name": "python",
   "nbconvert_exporter": "python",
   "pygments_lexer": "ipython3",
   "version": "3.9.7"
  }
 },
 "nbformat": 4,
 "nbformat_minor": 4
}
